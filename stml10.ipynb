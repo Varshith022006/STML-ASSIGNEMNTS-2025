{
  "nbformat": 4,
  "nbformat_minor": 0,
  "metadata": {
    "colab": {
      "provenance": [],
      "authorship_tag": "ABX9TyP5UizaMv9FJ3lyX5dnDjan",
      "include_colab_link": true
    },
    "kernelspec": {
      "name": "python3",
      "display_name": "Python 3"
    },
    "language_info": {
      "name": "python"
    }
  },
  "cells": [
    {
      "cell_type": "markdown",
      "metadata": {
        "id": "view-in-github",
        "colab_type": "text"
      },
      "source": [
        "<a href=\"https://colab.research.google.com/github/Varshith022006/STML-ASSIGNEMNTS-2025/blob/main/stml10.ipynb\" target=\"_parent\"><img src=\"https://colab.research.google.com/assets/colab-badge.svg\" alt=\"Open In Colab\"/></a>"
      ]
    },
    {
      "cell_type": "code",
      "execution_count": 1,
      "metadata": {
        "id": "kEB7tTiJBeEB",
        "colab": {
          "base_uri": "https://localhost:8080/"
        },
        "outputId": "db2141e0-559c-4237-9ff4-172346073038"
      },
      "outputs": [
        {
          "output_type": "stream",
          "name": "stdout",
          "text": [
            "Mounted at /content/drive\n",
            "Test size: 0.2, Accuracy: 0.73\n",
            "Test size: 0.3, Accuracy: 0.78\n",
            "Test size: 0.4, Accuracy: 0.75\n"
          ]
        }
      ],
      "source": [
        "from google.colab import drive\n",
        "drive.mount('/content/drive')\n",
        "import pandas as pd\n",
        "from sklearn.model_selection import train_test_split\n",
        "from sklearn.neighbors import KNeighborsClassifier\n",
        "from sklearn.preprocessing import LabelEncoder\n",
        "from sklearn.metrics import accuracy_score\n",
        "\n",
        "\n",
        "file_path = '/content/archive (5).zip'\n",
        "data = pd.read_csv(file_path)\n",
        "\n",
        "\n",
        "le = LabelEncoder()\n",
        "data['Gender'] = le.fit_transform(data['Gender'])\n",
        "data['Tumour_Stage'] = le.fit_transform(data['Tumour_Stage'])\n",
        "data['Histology'] = le.fit_transform(data['Histology'])\n",
        "data['ER status'] = le.fit_transform(data['ER status'])\n",
        "data['PR status'] = le.fit_transform(data['PR status'])\n",
        "data['HER2 status'] = le.fit_transform(data['HER2 status'])\n",
        "data['Surgery_type'] = le.fit_transform(data['Surgery_type'])\n",
        "data['Patient_Status'] = le.fit_transform(data['Patient_Status'])\n",
        "\n",
        "\n",
        "X = data.drop(['Date_of_Surgery', 'Date_of_Last_Visit', 'Patient_Status'], axis=1)\n",
        "y = data['Patient_Status']\n",
        "\n",
        "\n",
        "results = []\n",
        "\n",
        "\n",
        "for test_size in [0.2, 0.3, 0.4]:\n",
        "\n",
        "    X_train, X_test, y_train, y_test = train_test_split(X, y, test_size=test_size, random_state=42)\n",
        "\n",
        "\n",
        "    knn = KNeighborsClassifier(n_neighbors=5)\n",
        "    knn.fit(X_train, y_train)\n",
        "\n",
        "\n",
        "    y_pred = knn.predict(X_test)\n",
        "    accuracy = accuracy_score(y_test, y_pred)\n",
        "\n",
        "\n",
        "    results.append((test_size, accuracy))\n",
        "\n",
        "\n",
        "for test_size, accuracy in results:\n",
        "    print(f\"Test size: {test_size}, Accuracy: {accuracy:.2f}\")"
      ]
    },
    {
      "cell_type": "code",
      "source": [
        "from google.colab import drive\n",
        "drive.mount('/content/drive')\n",
        "import pandas as pd\n",
        "from sklearn.model_selection import train_test_split\n",
        "from sklearn.svm import SVC\n",
        "from sklearn.preprocessing import LabelEncoder\n",
        "from sklearn.metrics import accuracy_score\n",
        "\n",
        "file_path = '/content/archive (6).zip'\n",
        "data = pd.read_csv(file_path)\n",
        "\n",
        "le = LabelEncoder()\n",
        "data['Gender'] = le.fit_transform(data['Gender'])\n",
        "data['Tumour_Stage'] = le.fit_transform(data['Tumour_Stage'])\n",
        "data['Histology'] = le.fit_transform(data['Histology'])\n",
        "data['ER status'] = le.fit_transform(data['ER status'])\n",
        "data['PR status'] = le.fit_transform(data['PR status'])\n",
        "data['HER2 status'] = le.fit_transform(data['HER2 status'])\n",
        "data['Surgery_type'] = le.fit_transform(data['Surgery_type'])\n",
        "data['Patient_Status'] = le.fit_transform(data['Patient_Status'])\n",
        "\n",
        "X = data.drop(['Date_of_Surgery', 'Date_of_Last_Visit', 'Patient_Status'], axis=1)\n",
        "y = data['Patient_Status']\n",
        "\n",
        "test_sizes = [0.2, 0.25, 0.3, 0.35]\n",
        "results = []\n",
        "\n",
        "for test_size in test_sizes:\n",
        "    X_train, X_test, y_train, y_test = train_test_split(X, y, test_size=test_size, random_state=42)\n",
        "    svm = SVC()\n",
        "    svm.fit(X_train, y_train)\n",
        "    y_pred = svm.predict(X_test)\n",
        "    accuracy = accuracy_score(y_test, y_pred)\n",
        "    results.append((test_size, accuracy))\n",
        "\n",
        "for test_size, accuracy in results:\n",
        "    print(f\"Test size: {test_size}, Accuracy: {accuracy:.2f}\")\n"
      ],
      "metadata": {
        "colab": {
          "base_uri": "https://localhost:8080/"
        },
        "id": "Vj_nRV0yCruI",
        "outputId": "5bd425ee-5dd5-448a-94a2-acb2d3c25120"
      },
      "execution_count": 2,
      "outputs": [
        {
          "output_type": "stream",
          "name": "stdout",
          "text": [
            "Drive already mounted at /content/drive; to attempt to forcibly remount, call drive.mount(\"/content/drive\", force_remount=True).\n",
            "Test size: 0.2, Accuracy: 0.78\n",
            "Test size: 0.25, Accuracy: 0.77\n",
            "Test size: 0.3, Accuracy: 0.78\n",
            "Test size: 0.35, Accuracy: 0.79\n"
          ]
        }
      ]
    }
  ]
}