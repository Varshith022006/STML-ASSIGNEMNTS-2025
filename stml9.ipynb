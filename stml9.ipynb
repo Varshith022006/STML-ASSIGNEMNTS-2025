{
  "nbformat": 4,
  "nbformat_minor": 0,
  "metadata": {
    "colab": {
      "provenance": [],
      "authorship_tag": "ABX9TyMZ1kxA4e94GARx5lqxaG/n",
      "include_colab_link": true
    },
    "kernelspec": {
      "name": "python3",
      "display_name": "Python 3"
    },
    "language_info": {
      "name": "python"
    }
  },
  "cells": [
    {
      "cell_type": "markdown",
      "metadata": {
        "id": "view-in-github",
        "colab_type": "text"
      },
      "source": [
        "<a href=\"https://colab.research.google.com/github/Varshith022006/STML-ASSIGNEMNTS-2025/blob/main/stml9.ipynb\" target=\"_parent\"><img src=\"https://colab.research.google.com/assets/colab-badge.svg\" alt=\"Open In Colab\"/></a>"
      ]
    },
    {
      "cell_type": "code",
      "execution_count": 1,
      "metadata": {
        "colab": {
          "base_uri": "https://localhost:8080/"
        },
        "id": "lx1iW3d2AMqg",
        "outputId": "06688b93-880f-417c-920f-3790428fc73a"
      },
      "outputs": [
        {
          "output_type": "stream",
          "name": "stdout",
          "text": [
            "Column names in the dataset:\n",
            "Index(['Age', 'Gender', 'Protein1', 'Protein2', 'Protein3', 'Protein4',\n",
            "       'Tumour_Stage', 'Histology', 'ER status', 'PR status', 'HER2 status',\n",
            "       'Surgery_type', 'Date_of_Surgery', 'Date_of_Last_Visit',\n",
            "       'Patient_Status'],\n",
            "      dtype='object')\n",
            "Test size: 0.2, MSE: 0.31\n",
            "Test size: 0.3, MSE: 0.27\n",
            "Test size: 0.4, MSE: 0.28\n"
          ]
        }
      ],
      "source": [
        "import pandas as pd\n",
        "from sklearn.model_selection import train_test_split\n",
        "from sklearn.svm import SVR\n",
        "from sklearn.metrics import mean_squared_error\n",
        "from sklearn.preprocessing import LabelEncoder\n",
        "\n",
        "data = pd.read_csv('/content/archive (3).zip')\n",
        "\n",
        "print(\"Column names in the dataset:\")\n",
        "print(data.columns)\n",
        "\n",
        "target_variable_name = 'Patient_Status'\n",
        "\n",
        "if target_variable_name not in data.columns:\n",
        "    raise ValueError(f\"Target variable '{target_variable_name}' not found in DataFrame columns.\")\n",
        "\n",
        "X = data.drop(target_variable_name, axis=1)\n",
        "y = data[target_variable_name]\n",
        "\n",
        "X = pd.get_dummies(X, drop_first=True)\n",
        "\n",
        "label_encoder = LabelEncoder()\n",
        "y = label_encoder.fit_transform(y)\n",
        "\n",
        "model = SVR(kernel='rbf')\n",
        "\n",
        "for test_size in [0.2, 0.3, 0.4]:\n",
        "    X_train, X_test, y_train, y_test = train_test_split(X, y, test_size=test_size, random_state=42)\n",
        "    model.fit(X_train, y_train)\n",
        "    y_pred = model.predict(X_test)\n",
        "    mse = mean_squared_error(y_test, y_pred)\n",
        "    print(f\"Test size: {test_size}, MSE: {mse:.2f}\")"
      ]
    },
    {
      "cell_type": "code",
      "source": [
        "from google.colab import drive\n",
        "drive.mount('/content/drive')\n",
        "\n",
        "\n",
        "import pandas as pd\n",
        "from sklearn.model_selection import train_test_split\n",
        "from sklearn.linear_model import LogisticRegression\n",
        "from sklearn.metrics import accuracy_score\n",
        "from sklearn.preprocessing import LabelEncoder\n",
        "\n",
        "data = pd.read_csv('/content/archive (4).zip')\n",
        "\n",
        "\n",
        "print(\"Column names in the dataset:\")\n",
        "print(data.columns)\n",
        "\n",
        "\n",
        "target_variable_name = 'Patient_Status'\n",
        "\n",
        "\n",
        "if target_variable_name not in data.columns:\n",
        "    raise ValueError(f\"Target variable '{target_variable_name}' not found in DataFrame columns.\")\n",
        "\n",
        "\n",
        "X = data.drop(target_variable_name, axis=1)\n",
        "y = data[target_variable_name]\n",
        "\n",
        "\n",
        "X = pd.get_dummies(X, drop_first=True)\n",
        "\n",
        "\n",
        "label_encoder = LabelEncoder()\n",
        "y = label_encoder.fit_transform(y)\n",
        "\n",
        "model = LogisticRegression(max_iter=1000)\n",
        "\n",
        "for test_size in [0.2, 0.3, 0.4]:\n",
        "    X_train, X_test, y_train, y_test = train_test_split(X, y, test_size=test_size, random_state=42)\n",
        "    model.fit(X_train, y_train)\n",
        "    y_pred = model.predict(X_test)\n",
        "    accuracy = accuracy_score(y_test, y_pred)\n",
        "    print(f\"Test size: {test_size}, Accuracy: {accuracy:.2f}\")"
      ],
      "metadata": {
        "colab": {
          "base_uri": "https://localhost:8080/"
        },
        "id": "RJmZ4PYVAv46",
        "outputId": "4febda48-f526-431e-a29b-845847d873c4"
      },
      "execution_count": 2,
      "outputs": [
        {
          "output_type": "stream",
          "name": "stdout",
          "text": [
            "Mounted at /content/drive\n",
            "Column names in the dataset:\n",
            "Index(['Age', 'Gender', 'Protein1', 'Protein2', 'Protein3', 'Protein4',\n",
            "       'Tumour_Stage', 'Histology', 'ER status', 'PR status', 'HER2 status',\n",
            "       'Surgery_type', 'Date_of_Surgery', 'Date_of_Last_Visit',\n",
            "       'Patient_Status'],\n",
            "      dtype='object')\n",
            "Test size: 0.2, Accuracy: 0.79\n",
            "Test size: 0.3, Accuracy: 0.78\n",
            "Test size: 0.4, Accuracy: 0.76\n"
          ]
        }
      ]
    }
  ]
}