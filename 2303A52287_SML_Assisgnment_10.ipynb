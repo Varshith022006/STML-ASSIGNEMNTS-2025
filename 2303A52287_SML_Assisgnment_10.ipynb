{
  "nbformat": 4,
  "nbformat_minor": 0,
  "metadata": {
    "colab": {
      "provenance": [],
      "mount_file_id": "1g6_3kTqQJVB6GTHuYx-sybK7wANe5yLM",
      "authorship_tag": "ABX9TyPuDmZqn/O1uwRjvGPsFz6C",
      "include_colab_link": true
    },
    "kernelspec": {
      "name": "python3",
      "display_name": "Python 3"
    },
    "language_info": {
      "name": "python"
    }
  },
  "cells": [
    {
      "cell_type": "markdown",
      "metadata": {
        "id": "view-in-github",
        "colab_type": "text"
      },
      "source": [
        "<a href=\"https://colab.research.google.com/github/Varshith022006/STML-ASSIGNEMNTS-2025/blob/main/2303A52287_SML_Assisgnment_10.ipynb\" target=\"_parent\"><img src=\"https://colab.research.google.com/assets/colab-badge.svg\" alt=\"Open In Colab\"/></a>"
      ]
    },
    {
      "cell_type": "code",
      "source": [
        "import pandas as pd\n",
        "import seaborn as sns\n",
        "from sklearn.model_selection import train_test_split\n",
        "from sklearn.neighbors import KNeighborsClassifier\n",
        "from sklearn.metrics import accuracy_score\n",
        "\n",
        "path = \"/content/breast_cancer_survival.csv\"\n",
        "data = pd.read_csv(path)\n",
        "\n",
        "\n",
        "data = data.dropna()\n",
        "\n",
        "\n",
        "X = pd.get_dummies(data.iloc[:, :-1])\n",
        "y = data.iloc[:, -1]\n",
        "\n",
        "test_sizes = [0.1, 0.2, 0.3, 0.4]\n",
        "accuracies = []\n",
        "\n",
        "for test_size in test_sizes:\n",
        "    X_train, X_test, y_train, y_test = train_test_split(X, y, test_size=test_size, random_state=42)\n",
        "    knn = KNeighborsClassifier(n_neighbors=5)\n",
        "    knn.fit(X_train, y_train)\n",
        "    y_pred = knn.predict(X_test)\n",
        "    accuracy = accuracy_score(y_test, y_pred)\n",
        "    accuracies.append(accuracy)\n",
        "    print(f\"Accuracy with test size {test_size}: {accuracy:.2f}\")\n",
        "\n",
        "print(\"Accuracies for different test sizes:\", accuracies)\n"
      ],
      "metadata": {
        "colab": {
          "base_uri": "https://localhost:8080/"
        },
        "id": "TSVtgsie7Uhi",
        "outputId": "bc09bbff-0e2b-4bf9-a2c5-48e10b2f6553"
      },
      "execution_count": 12,
      "outputs": [
        {
          "output_type": "stream",
          "name": "stdout",
          "text": [
            "Accuracy with test size 0.1: 0.72\n",
            "Accuracy with test size 0.2: 0.81\n",
            "Accuracy with test size 0.3: 0.79\n",
            "Accuracy with test size 0.4: 0.80\n",
            "Accuracies for different test sizes: [0.71875, 0.8125, 0.7916666666666666, 0.7952755905511811]\n"
          ]
        }
      ]
    },
    {
      "cell_type": "code",
      "source": [
        "import pandas as pd\n",
        "from sklearn.model_selection import train_test_split\n",
        "from sklearn.svm import SVC\n",
        "from sklearn.metrics import accuracy_score\n",
        "\n",
        "\n",
        "path =  \"/content/breast_cancer_survival.csv\"\n",
        "data = pd.read_csv(path)\n",
        "\n",
        "\n",
        "print(data.head())\n",
        "\n",
        "\n",
        "data = data.dropna()\n",
        "\n",
        "\n",
        "X = pd.get_dummies(data.iloc[:, :-1])\n",
        "y = data.iloc[:, -1]\n",
        "\n",
        "\n",
        "test_sizes = [0.2, 0.25, 0.3, 0.35]\n",
        "accuracies = []\n",
        "\n",
        "\n",
        "for test_size in test_sizes:\n",
        "\n",
        "    X_train, X_test, y_train, y_test = train_test_split(X, y, test_size=test_size, random_state=42)\n",
        "\n",
        "\n",
        "    svm_model = SVC(kernel='linear')\n",
        "    svm_model.fit(X_train, y_train)\n",
        "\n",
        "\n",
        "    y_pred = svm_model.predict(X_test)\n",
        "\n",
        "\n",
        "    accuracy = accuracy_score(y_test, y_pred)\n",
        "    accuracies.append(accuracy)\n",
        "    print(f\"Accuracy with test size {test_size*100}%: {accuracy:.2f}\")\n",
        "\n",
        "\n",
        "print(\"Accuracies for different test sizes:\", accuracies)\n"
      ],
      "metadata": {
        "colab": {
          "base_uri": "https://localhost:8080/"
        },
        "id": "WBcEI9y37u41",
        "outputId": "25c3ebe4-9585-4a3b-9052-fc68e6a4d992"
      },
      "execution_count": 13,
      "outputs": [
        {
          "output_type": "stream",
          "name": "stdout",
          "text": [
            "   Age  Gender  Protein1  Protein2  Protein3  Protein4 Tumour_Stage  \\\n",
            "0   42  FEMALE   0.95256   2.15000  0.007972 -0.048340           II   \n",
            "1   54  FEMALE   0.00000   1.38020 -0.498030 -0.507320           II   \n",
            "2   63  FEMALE  -0.52303   1.76400 -0.370190  0.010815           II   \n",
            "3   78  FEMALE  -0.87618   0.12943 -0.370380  0.132190            I   \n",
            "4   42  FEMALE   0.22611   1.74910 -0.543970 -0.390210           II   \n",
            "\n",
            "                       Histology ER status PR status HER2 status Surgery_type  \\\n",
            "0  Infiltrating Ductal Carcinoma  Positive  Positive    Negative        Other   \n",
            "1  Infiltrating Ductal Carcinoma  Positive  Positive    Negative        Other   \n",
            "2  Infiltrating Ductal Carcinoma  Positive  Positive    Negative   Lumpectomy   \n",
            "3  Infiltrating Ductal Carcinoma  Positive  Positive    Negative        Other   \n",
            "4  Infiltrating Ductal Carcinoma  Positive  Positive    Positive   Lumpectomy   \n",
            "\n",
            "  Date_of_Surgery Date_of_Last_Visit Patient_Status  \n",
            "0       20-May-18          26-Aug-18          Alive  \n",
            "1       26-Apr-18          25-Jan-19           Dead  \n",
            "2       24-Aug-18          08-Apr-20          Alive  \n",
            "3       16-Nov-18          28-Jul-20          Alive  \n",
            "4       12-Dec-18          05-Jan-19          Alive  \n",
            "Accuracy with test size 20.0%: 0.80\n",
            "Accuracy with test size 25.0%: 0.76\n",
            "Accuracy with test size 30.0%: 0.76\n",
            "Accuracy with test size 35.0%: 0.78\n",
            "Accuracies for different test sizes: [0.796875, 0.7625, 0.7604166666666666, 0.7837837837837838]\n"
          ]
        }
      ]
    }
  ]
}